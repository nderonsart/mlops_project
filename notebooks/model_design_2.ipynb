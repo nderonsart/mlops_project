{
 "cells": [
  {
   "cell_type": "markdown",
   "metadata": {},
   "source": [
    "# MLOPS project - Model design using MLFlow\n",
    "\n",
    "Author : **Nicolas Deronsart**"
   ]
  },
  {
   "cell_type": "code",
   "execution_count": 1,
   "metadata": {},
   "outputs": [],
   "source": [
    "import mlflow\n",
    "import subprocess\n",
    "\n",
    "import pandas as pd\n",
    "\n",
    "from sklearn.feature_extraction.text import TfidfVectorizer\n",
    "from sklearn.linear_model import LogisticRegression\n",
    "from sklearn.metrics import accuracy_score, f1_score, precision_score, recall_score, confusion_matrix, roc_auc_score\n",
    "from sklearn.pipeline import Pipeline\n",
    "\n",
    "from spacy.lang.fr.stop_words import STOP_WORDS as french_stopwords\n",
    "\n",
    "import matplotlib.pyplot as plt\n",
    "import seaborn as sns"
   ]
  },
  {
   "cell_type": "markdown",
   "metadata": {},
   "source": [
    "## MLFlow tracking"
   ]
  },
  {
   "cell_type": "markdown",
   "metadata": {},
   "source": [
    "We set up MLFlow tracking to monitor the model training and evaluation."
   ]
  },
  {
   "cell_type": "code",
   "execution_count": 2,
   "metadata": {},
   "outputs": [
    {
     "data": {
      "text/plain": [
       "<Experiment: artifact_location='mlflow-artifacts:/638688685417919419', creation_time=1699969570525, experiment_id='638688685417919419', last_update_time=1699969570525, lifecycle_stage='active', name='model_design', tags={}>"
      ]
     },
     "execution_count": 2,
     "metadata": {},
     "output_type": "execute_result"
    }
   ],
   "source": [
    "mlflow.set_tracking_uri(\"http://127.0.0.1:5000\")\n",
    "\n",
    "mlflow.sklearn.autolog(log_datasets=False)\n",
    "mlflow.set_experiment(\"model_design\")"
   ]
  },
  {
   "cell_type": "markdown",
   "metadata": {},
   "source": [
    "## Import the data"
   ]
  },
  {
   "cell_type": "markdown",
   "metadata": {},
   "source": [
    "Before training a first model, we need to get the training and validation dataset."
   ]
  },
  {
   "cell_type": "code",
   "execution_count": 3,
   "metadata": {},
   "outputs": [
    {
     "data": {
      "text/html": [
       "<div>\n",
       "<style scoped>\n",
       "    .dataframe tbody tr th:only-of-type {\n",
       "        vertical-align: middle;\n",
       "    }\n",
       "\n",
       "    .dataframe tbody tr th {\n",
       "        vertical-align: top;\n",
       "    }\n",
       "\n",
       "    .dataframe thead th {\n",
       "        text-align: right;\n",
       "    }\n",
       "</style>\n",
       "<table border=\"1\" class=\"dataframe\">\n",
       "  <thead>\n",
       "    <tr style=\"text-align: right;\">\n",
       "      <th></th>\n",
       "      <th>film-url</th>\n",
       "      <th>review</th>\n",
       "      <th>polarity</th>\n",
       "    </tr>\n",
       "  </thead>\n",
       "  <tbody>\n",
       "    <tr>\n",
       "      <th>0</th>\n",
       "      <td>http://www.allocine.fr/film/fichefilm-135259/c...</td>\n",
       "      <td>Si vous cherchez du cinéma abrutissant à tous ...</td>\n",
       "      <td>0</td>\n",
       "    </tr>\n",
       "    <tr>\n",
       "      <th>1</th>\n",
       "      <td>http://www.allocine.fr/film/fichefilm-172430/c...</td>\n",
       "      <td>Trash, re-trash et re-re-trash...! Une horreur...</td>\n",
       "      <td>0</td>\n",
       "    </tr>\n",
       "    <tr>\n",
       "      <th>2</th>\n",
       "      <td>http://www.allocine.fr/film/fichefilm-15105/cr...</td>\n",
       "      <td>Et si, dans les 5 premières minutes du film, l...</td>\n",
       "      <td>0</td>\n",
       "    </tr>\n",
       "    <tr>\n",
       "      <th>3</th>\n",
       "      <td>http://www.allocine.fr/film/fichefilm-188629/c...</td>\n",
       "      <td>Mon dieu ! Quelle métaphore filée ! Je suis ab...</td>\n",
       "      <td>0</td>\n",
       "    </tr>\n",
       "    <tr>\n",
       "      <th>4</th>\n",
       "      <td>http://www.allocine.fr/film/fichefilm-23514/cr...</td>\n",
       "      <td>Premier film de la saga Kozure Okami, \"Le Sabr...</td>\n",
       "      <td>1</td>\n",
       "    </tr>\n",
       "    <tr>\n",
       "      <th>...</th>\n",
       "      <td>...</td>\n",
       "      <td>...</td>\n",
       "      <td>...</td>\n",
       "    </tr>\n",
       "    <tr>\n",
       "      <th>159995</th>\n",
       "      <td>http://www.allocine.fr/film/fichefilm-132387/c...</td>\n",
       "      <td>Un rythme bien trop lent et un Ashton Kutcher ...</td>\n",
       "      <td>0</td>\n",
       "    </tr>\n",
       "    <tr>\n",
       "      <th>159996</th>\n",
       "      <td>http://www.allocine.fr/film/fichefilm-53313/cr...</td>\n",
       "      <td>Monsieur Duchovny vous êtes aussi piètre acteu...</td>\n",
       "      <td>0</td>\n",
       "    </tr>\n",
       "    <tr>\n",
       "      <th>159997</th>\n",
       "      <td>http://www.allocine.fr/film/fichefilm-248258/c...</td>\n",
       "      <td>Complètement différent des films de la série C...</td>\n",
       "      <td>1</td>\n",
       "    </tr>\n",
       "    <tr>\n",
       "      <th>159998</th>\n",
       "      <td>http://www.allocine.fr/film/fichefilm-268731/c...</td>\n",
       "      <td>Alors franchement pour le moment c'est le meil...</td>\n",
       "      <td>1</td>\n",
       "    </tr>\n",
       "    <tr>\n",
       "      <th>159999</th>\n",
       "      <td>http://www.allocine.fr/film/fichefilm-188871/c...</td>\n",
       "      <td>Beur sur la ville réunit à lui même toutes les...</td>\n",
       "      <td>0</td>\n",
       "    </tr>\n",
       "  </tbody>\n",
       "</table>\n",
       "<p>160000 rows × 3 columns</p>\n",
       "</div>"
      ],
      "text/plain": [
       "                                                 film-url  \\\n",
       "0       http://www.allocine.fr/film/fichefilm-135259/c...   \n",
       "1       http://www.allocine.fr/film/fichefilm-172430/c...   \n",
       "2       http://www.allocine.fr/film/fichefilm-15105/cr...   \n",
       "3       http://www.allocine.fr/film/fichefilm-188629/c...   \n",
       "4       http://www.allocine.fr/film/fichefilm-23514/cr...   \n",
       "...                                                   ...   \n",
       "159995  http://www.allocine.fr/film/fichefilm-132387/c...   \n",
       "159996  http://www.allocine.fr/film/fichefilm-53313/cr...   \n",
       "159997  http://www.allocine.fr/film/fichefilm-248258/c...   \n",
       "159998  http://www.allocine.fr/film/fichefilm-268731/c...   \n",
       "159999  http://www.allocine.fr/film/fichefilm-188871/c...   \n",
       "\n",
       "                                                   review  polarity  \n",
       "0       Si vous cherchez du cinéma abrutissant à tous ...         0  \n",
       "1       Trash, re-trash et re-re-trash...! Une horreur...         0  \n",
       "2       Et si, dans les 5 premières minutes du film, l...         0  \n",
       "3       Mon dieu ! Quelle métaphore filée ! Je suis ab...         0  \n",
       "4       Premier film de la saga Kozure Okami, \"Le Sabr...         1  \n",
       "...                                                   ...       ...  \n",
       "159995  Un rythme bien trop lent et un Ashton Kutcher ...         0  \n",
       "159996  Monsieur Duchovny vous êtes aussi piètre acteu...         0  \n",
       "159997  Complètement différent des films de la série C...         1  \n",
       "159998  Alors franchement pour le moment c'est le meil...         1  \n",
       "159999  Beur sur la ville réunit à lui même toutes les...         0  \n",
       "\n",
       "[160000 rows x 3 columns]"
      ]
     },
     "execution_count": 3,
     "metadata": {},
     "output_type": "execute_result"
    }
   ],
   "source": [
    "df = pd.read_csv('../data/train.csv')\n",
    "df = df.drop('Unnamed: 0', axis=1)\n",
    "df"
   ]
  },
  {
   "cell_type": "code",
   "execution_count": 4,
   "metadata": {},
   "outputs": [
    {
     "data": {
      "text/html": [
       "<div>\n",
       "<style scoped>\n",
       "    .dataframe tbody tr th:only-of-type {\n",
       "        vertical-align: middle;\n",
       "    }\n",
       "\n",
       "    .dataframe tbody tr th {\n",
       "        vertical-align: top;\n",
       "    }\n",
       "\n",
       "    .dataframe thead th {\n",
       "        text-align: right;\n",
       "    }\n",
       "</style>\n",
       "<table border=\"1\" class=\"dataframe\">\n",
       "  <thead>\n",
       "    <tr style=\"text-align: right;\">\n",
       "      <th></th>\n",
       "      <th>film-url</th>\n",
       "      <th>review</th>\n",
       "      <th>polarity</th>\n",
       "    </tr>\n",
       "  </thead>\n",
       "  <tbody>\n",
       "    <tr>\n",
       "      <th>0</th>\n",
       "      <td>http://www.allocine.fr/film/fichefilm-51895/cr...</td>\n",
       "      <td>Ce film est tout ce qu'il y a de plus sympa. M...</td>\n",
       "      <td>0</td>\n",
       "    </tr>\n",
       "    <tr>\n",
       "      <th>1</th>\n",
       "      <td>http://www.allocine.fr/film/fichefilm-272/crit...</td>\n",
       "      <td>The Wall a été réalisé par Alan Parker (Fame, ...</td>\n",
       "      <td>1</td>\n",
       "    </tr>\n",
       "    <tr>\n",
       "      <th>2</th>\n",
       "      <td>http://www.allocine.fr/film/fichefilm-60134/cr...</td>\n",
       "      <td>Encore un film majeur tres mal distribué, comm...</td>\n",
       "      <td>1</td>\n",
       "    </tr>\n",
       "    <tr>\n",
       "      <th>3</th>\n",
       "      <td>http://www.allocine.fr/film/fichefilm-31396/cr...</td>\n",
       "      <td>L'idée est très bonne mais le film manque de r...</td>\n",
       "      <td>0</td>\n",
       "    </tr>\n",
       "    <tr>\n",
       "      <th>4</th>\n",
       "      <td>http://www.allocine.fr/film/fichefilm-135195/c...</td>\n",
       "      <td>Un petit nanar rigolo a regarder. A voir une f...</td>\n",
       "      <td>0</td>\n",
       "    </tr>\n",
       "    <tr>\n",
       "      <th>...</th>\n",
       "      <td>...</td>\n",
       "      <td>...</td>\n",
       "      <td>...</td>\n",
       "    </tr>\n",
       "    <tr>\n",
       "      <th>19995</th>\n",
       "      <td>http://www.allocine.fr/film/fichefilm-39142/cr...</td>\n",
       "      <td>Ce petit film tourné en 18 jours pour la somme...</td>\n",
       "      <td>1</td>\n",
       "    </tr>\n",
       "    <tr>\n",
       "      <th>19996</th>\n",
       "      <td>http://www.allocine.fr/film/fichefilm-8171/cri...</td>\n",
       "      <td>Le roman de Forsyth, d'où est tiré le scénario...</td>\n",
       "      <td>0</td>\n",
       "    </tr>\n",
       "    <tr>\n",
       "      <th>19997</th>\n",
       "      <td>http://www.allocine.fr/film/fichefilm-228026/c...</td>\n",
       "      <td>Qu'on aime ou pas \"Toni Erdmann\" - et au sorti...</td>\n",
       "      <td>1</td>\n",
       "    </tr>\n",
       "    <tr>\n",
       "      <th>19998</th>\n",
       "      <td>http://www.allocine.fr/film/fichefilm-219994/c...</td>\n",
       "      <td>Un film qui a fait un certain buzz médiatique,...</td>\n",
       "      <td>1</td>\n",
       "    </tr>\n",
       "    <tr>\n",
       "      <th>19999</th>\n",
       "      <td>http://www.allocine.fr/film/fichefilm-5762/cri...</td>\n",
       "      <td>C'est long, c'est mièvre, c'est ennuyeux tout ...</td>\n",
       "      <td>0</td>\n",
       "    </tr>\n",
       "  </tbody>\n",
       "</table>\n",
       "<p>20000 rows × 3 columns</p>\n",
       "</div>"
      ],
      "text/plain": [
       "                                                film-url  \\\n",
       "0      http://www.allocine.fr/film/fichefilm-51895/cr...   \n",
       "1      http://www.allocine.fr/film/fichefilm-272/crit...   \n",
       "2      http://www.allocine.fr/film/fichefilm-60134/cr...   \n",
       "3      http://www.allocine.fr/film/fichefilm-31396/cr...   \n",
       "4      http://www.allocine.fr/film/fichefilm-135195/c...   \n",
       "...                                                  ...   \n",
       "19995  http://www.allocine.fr/film/fichefilm-39142/cr...   \n",
       "19996  http://www.allocine.fr/film/fichefilm-8171/cri...   \n",
       "19997  http://www.allocine.fr/film/fichefilm-228026/c...   \n",
       "19998  http://www.allocine.fr/film/fichefilm-219994/c...   \n",
       "19999  http://www.allocine.fr/film/fichefilm-5762/cri...   \n",
       "\n",
       "                                                  review  polarity  \n",
       "0      Ce film est tout ce qu'il y a de plus sympa. M...         0  \n",
       "1      The Wall a été réalisé par Alan Parker (Fame, ...         1  \n",
       "2      Encore un film majeur tres mal distribué, comm...         1  \n",
       "3      L'idée est très bonne mais le film manque de r...         0  \n",
       "4      Un petit nanar rigolo a regarder. A voir une f...         0  \n",
       "...                                                  ...       ...  \n",
       "19995  Ce petit film tourné en 18 jours pour la somme...         1  \n",
       "19996  Le roman de Forsyth, d'où est tiré le scénario...         0  \n",
       "19997  Qu'on aime ou pas \"Toni Erdmann\" - et au sorti...         1  \n",
       "19998  Un film qui a fait un certain buzz médiatique,...         1  \n",
       "19999  C'est long, c'est mièvre, c'est ennuyeux tout ...         0  \n",
       "\n",
       "[20000 rows x 3 columns]"
      ]
     },
     "execution_count": 4,
     "metadata": {},
     "output_type": "execute_result"
    }
   ],
   "source": [
    "df_valid = pd.read_csv('../data/valid.csv')\n",
    "df_valid = df_valid.drop('Unnamed: 0', axis=1)\n",
    "df_valid"
   ]
  },
  {
   "cell_type": "markdown",
   "metadata": {},
   "source": [
    "Now, we can create a pipeline to train and predict the polaririty prediction model."
   ]
  },
  {
   "cell_type": "markdown",
   "metadata": {},
   "source": [
    "## Pipeline creation"
   ]
  },
  {
   "cell_type": "markdown",
   "metadata": {},
   "source": [
    "We can create a pipeline that first vectorize the text with a TF-IDF and then use the model."
   ]
  },
  {
   "cell_type": "markdown",
   "metadata": {},
   "source": [
    "Our pipeline can be used to train the model on the whole training set, and then use it to predict the polarity of the test set."
   ]
  },
  {
   "cell_type": "code",
   "execution_count": 5,
   "metadata": {},
   "outputs": [],
   "source": [
    "def evaluate(model, X_valid, y_valid):\n",
    "    y_pred = model.predict(X_valid)\n",
    "    \n",
    "    accuracy = accuracy_score(y_valid, y_pred)\n",
    "    f1 = f1_score(y_valid, y_pred)\n",
    "    precision = precision_score(y_valid, y_pred)\n",
    "    recall = recall_score(y_valid, y_pred)\n",
    "    roc_auc = roc_auc_score(y_valid, y_pred)\n",
    "    print(f'Accuracy: {accuracy}')\n",
    "    print(f'F1: {f1}')\n",
    "    print(f'Precision: {precision}')\n",
    "    print(f'Recall: {recall}')\n",
    "    print(f'ROC AUC: {roc_auc}')\n",
    "    \n",
    "    cm = confusion_matrix(y_valid, y_pred)\n",
    "    sns.heatmap(cm, annot=True, fmt='d')\n",
    "    plt.xlabel('Predicted')\n",
    "    plt.ylabel('Truth')\n",
    "    plt.show()\n",
    "\n",
    "    return accuracy, f1, precision, recall, roc_auc"
   ]
  },
  {
   "cell_type": "code",
   "execution_count": 6,
   "metadata": {},
   "outputs": [
    {
     "name": "stderr",
     "output_type": "stream",
     "text": [
      "2023/11/14 16:52:58 WARNING mlflow.utils: Truncated the value of the key `steps`. Truncated value: `[('tfidf', TfidfVectorizer(stop_words=['derriere', 'eh', 'celui', 'en', 'stop', 'avant',\n",
      "                            'son', 'pourrais', 'toi-même', 'auront', 'être',\n",
      "                            'celle-ci', 'miens', 'feront', 'antérieur',\n",
      "                            'seulement', 'plutot', 'compris', 'divers', 'hue',\n",
      "                            'ouste', 'parfois', 'via', 'cinquième', 'parlent',\n",
      "                            'dessous', 'quant-à-soi', 'avec', 'dite', 'tenir', ...])), ('model', Logi...`\n",
      "2023/11/14 16:52:58 WARNING mlflow.utils: Truncated the value of the key `tfidf__stop_words`. Truncated value: `['derriere', 'eh', 'celui', 'en', 'stop', 'avant', 'son', 'pourrais', 'toi-même', 'auront', 'être', 'celle-ci', 'miens', 'feront', 'antérieur', 'seulement', 'plutot', 'compris', 'divers', 'hue', 'ouste', 'parfois', 'via', 'cinquième', 'parlent', 'dessous', 'quant-à-soi', 'avec', 'dite', 'tenir', 'vôtre', 'ceux', 'avais', 'ça', 'vu', \"l'\", 'ceci', 'possible', 'vas', 'aie', 'là', 'onze', 'differente', 'vous-mêmes', 'trois', 'chacune', 'pres', 'ton', 'malgré', 'mille', 'etant', 'desquelles', 'ex...`\n",
      "/Users/deronsart/anaconda3/envs/mlops/lib/python3.11/site-packages/sklearn/feature_extraction/text.py:408: UserWarning: Your stop_words may be inconsistent with your preprocessing. Tokenizing the stop words generated tokens ['neuf', 'qu', 'quelqu'] not in stop_words.\n",
      "  warnings.warn(\n",
      "2023/11/14 16:53:32 WARNING mlflow.utils.autologging_utils: MLflow autologging encountered a warning: \"/Users/deronsart/anaconda3/envs/mlops/lib/python3.11/site-packages/_distutils_hack/__init__.py:33: UserWarning: Setuptools is replacing distutils.\"\n"
     ]
    },
    {
     "name": "stdout",
     "output_type": "stream",
     "text": [
      "Accuracy: 0.9185\n",
      "F1: 0.9178344591188627\n",
      "Precision: 0.9065923122883888\n",
      "Recall: 0.9293589220089833\n",
      "ROC AUC: 0.9187170933055501\n"
     ]
    },
    {
     "data": {
      "image/png": "[encoded data removed]",
      "text/plain": [
       "<Figure size 640x480 with 2 Axes>"
      ]
     },
     "metadata": {},
     "output_type": "display_data"
    },
    {
     "name": "stderr",
     "output_type": "stream",
     "text": [
      "Successfully registered model 'Sentiment analysis pipeline with tfidf and logistic regression'.\n",
      "2023/11/14 16:53:35 INFO mlflow.tracking._model_registry.client: Waiting up to 300 seconds for model version to finish creation. Model name: Sentiment analysis pipeline with tfidf and logistic regression, version 1\n",
      "Created version '1' of model 'Sentiment analysis pipeline with tfidf and logistic regression'.\n"
     ]
    }
   ],
   "source": [
    "with mlflow.start_run(description='Sentiment analysis pipeline with tfidf and logistic regression'):\n",
    "    pipe = Pipeline([\n",
    "        ('tfidf', TfidfVectorizer(stop_words=list(french_stopwords))),\n",
    "        ('model', LogisticRegression(max_iter=500, random_state=42))\n",
    "    ])\n",
    "    pipe.fit(df['review'], df['polarity'])\n",
    "\n",
    "    y_pred = pipe.predict(df_valid['review'])\n",
    "\n",
    "    accuracy, f1, precision, recall, roc_auc = evaluate(pipe, df_valid['review'], df_valid['polarity'])\n",
    "    \n",
    "    experiment_tags = {\n",
    "        \"vectorizer\": \"TfidfVectorizer\",\n",
    "        \"classifier\": \"LogisticRegression\",\n",
    "        \"mlflow.source.name\": \"model_design_2.ipynb\",\n",
    "        \"mlflow.note.content\": \"Sentiment analysis on movies reviews\",\n",
    "        \"mlflow.source.git.commit\": subprocess.check_output([\"git\", \"rev-parse\", \"HEAD\"]),\n",
    "        \"dataset\": \"train.csv\",\n",
    "    }\n",
    "    mlflow.set_tags(experiment_tags)\n",
    "\n",
    "    experiment_metrics = {\n",
    "        'validation_accuracy': accuracy,\n",
    "        'validation_f1': f1,\n",
    "        'validation_precision': precision,\n",
    "        'validation_recall': recall,\n",
    "        'validation_roc_auc': roc_auc\n",
    "    }\n",
    "    mlflow.log_metrics(experiment_metrics)\n",
    "    \n",
    "    mlflow.sklearn.log_model(pipe, \n",
    "                             registered_model_name=\"Sentiment analysis pipeline with tfidf and logistic regression\",\n",
    "                             artifact_path=\"sklearn_model\")"
   ]
  },
  {
   "cell_type": "markdown",
   "metadata": {},
   "source": [
    "We have good results with our pipeline. We can now track our model with MLFlow."
   ]
  }
 ],
 "metadata": {
  "kernelspec": {
   "display_name": "mlops",
   "language": "python",
   "name": "python3"
  },
  "language_info": {
   "codemirror_mode": {
    "name": "ipython",
    "version": 3
   },
   "file_extension": ".py",
   "mimetype": "text/x-python",
   "name": "python",
   "nbconvert_exporter": "python",
   "pygments_lexer": "ipython3",
   "version": "3.11.5"
  }
 },
 "nbformat": 4,
 "nbformat_minor": 2
}
