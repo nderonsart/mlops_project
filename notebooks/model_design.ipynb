{
 "cells": [
  {
   "cell_type": "markdown",
   "metadata": {},
   "source": [
    "# MLOPS project - Model design\n",
    "\n",
    "Author : **Nicolas Deronsart**"
   ]
  },
  {
   "cell_type": "code",
   "execution_count": 1,
   "metadata": {},
   "outputs": [],
   "source": [
    "import pandas as pd\n",
    "\n",
    "from sklearn.feature_extraction.text import TfidfVectorizer\n",
    "from sklearn.linear_model import LogisticRegression\n",
    "from sklearn.model_selection import GridSearchCV\n",
    "from sklearn.metrics import accuracy_score, f1_score, precision_score, recall_score, confusion_matrix, roc_auc_score\n",
    "from sklearn.pipeline import Pipeline\n",
    "\n",
    "from spacy.lang.fr.stop_words import STOP_WORDS as french_stopwords\n",
    "\n",
    "import matplotlib.pyplot as plt\n",
    "import seaborn as sns"
   ]
  },
  {
   "cell_type": "markdown",
   "metadata": {},
   "source": [
    "## Preprocessing"
   ]
  },
  {
   "cell_type": "markdown",
   "metadata": {},
   "source": [
    "Before training a first model, we need to preprocess the training set to make it usable by the model.  \n",
    "\n",
    "First we load the dataset."
   ]
  },
  {
   "cell_type": "code",
   "execution_count": 2,
   "metadata": {},
   "outputs": [
    {
     "data": {
      "text/html": [
       "<div>\n",
       "<style scoped>\n",
       "    .dataframe tbody tr th:only-of-type {\n",
       "        vertical-align: middle;\n",
       "    }\n",
       "\n",
       "    .dataframe tbody tr th {\n",
       "        vertical-align: top;\n",
       "    }\n",
       "\n",
       "    .dataframe thead th {\n",
       "        text-align: right;\n",
       "    }\n",
       "</style>\n",
       "<table border=\"1\" class=\"dataframe\">\n",
       "  <thead>\n",
       "    <tr style=\"text-align: right;\">\n",
       "      <th></th>\n",
       "      <th>film-url</th>\n",
       "      <th>review</th>\n",
       "      <th>polarity</th>\n",
       "    </tr>\n",
       "  </thead>\n",
       "  <tbody>\n",
       "    <tr>\n",
       "      <th>0</th>\n",
       "      <td>http://www.allocine.fr/film/fichefilm-135259/c...</td>\n",
       "      <td>Si vous cherchez du cinéma abrutissant à tous ...</td>\n",
       "      <td>0</td>\n",
       "    </tr>\n",
       "    <tr>\n",
       "      <th>1</th>\n",
       "      <td>http://www.allocine.fr/film/fichefilm-172430/c...</td>\n",
       "      <td>Trash, re-trash et re-re-trash...! Une horreur...</td>\n",
       "      <td>0</td>\n",
       "    </tr>\n",
       "    <tr>\n",
       "      <th>2</th>\n",
       "      <td>http://www.allocine.fr/film/fichefilm-15105/cr...</td>\n",
       "      <td>Et si, dans les 5 premières minutes du film, l...</td>\n",
       "      <td>0</td>\n",
       "    </tr>\n",
       "    <tr>\n",
       "      <th>3</th>\n",
       "      <td>http://www.allocine.fr/film/fichefilm-188629/c...</td>\n",
       "      <td>Mon dieu ! Quelle métaphore filée ! Je suis ab...</td>\n",
       "      <td>0</td>\n",
       "    </tr>\n",
       "    <tr>\n",
       "      <th>4</th>\n",
       "      <td>http://www.allocine.fr/film/fichefilm-23514/cr...</td>\n",
       "      <td>Premier film de la saga Kozure Okami, \"Le Sabr...</td>\n",
       "      <td>1</td>\n",
       "    </tr>\n",
       "    <tr>\n",
       "      <th>...</th>\n",
       "      <td>...</td>\n",
       "      <td>...</td>\n",
       "      <td>...</td>\n",
       "    </tr>\n",
       "    <tr>\n",
       "      <th>159995</th>\n",
       "      <td>http://www.allocine.fr/film/fichefilm-132387/c...</td>\n",
       "      <td>Un rythme bien trop lent et un Ashton Kutcher ...</td>\n",
       "      <td>0</td>\n",
       "    </tr>\n",
       "    <tr>\n",
       "      <th>159996</th>\n",
       "      <td>http://www.allocine.fr/film/fichefilm-53313/cr...</td>\n",
       "      <td>Monsieur Duchovny vous êtes aussi piètre acteu...</td>\n",
       "      <td>0</td>\n",
       "    </tr>\n",
       "    <tr>\n",
       "      <th>159997</th>\n",
       "      <td>http://www.allocine.fr/film/fichefilm-248258/c...</td>\n",
       "      <td>Complètement différent des films de la série C...</td>\n",
       "      <td>1</td>\n",
       "    </tr>\n",
       "    <tr>\n",
       "      <th>159998</th>\n",
       "      <td>http://www.allocine.fr/film/fichefilm-268731/c...</td>\n",
       "      <td>Alors franchement pour le moment c'est le meil...</td>\n",
       "      <td>1</td>\n",
       "    </tr>\n",
       "    <tr>\n",
       "      <th>159999</th>\n",
       "      <td>http://www.allocine.fr/film/fichefilm-188871/c...</td>\n",
       "      <td>Beur sur la ville réunit à lui même toutes les...</td>\n",
       "      <td>0</td>\n",
       "    </tr>\n",
       "  </tbody>\n",
       "</table>\n",
       "<p>160000 rows × 3 columns</p>\n",
       "</div>"
      ],
      "text/plain": [
       "                                                 film-url  \\\n",
       "0       http://www.allocine.fr/film/fichefilm-135259/c...   \n",
       "1       http://www.allocine.fr/film/fichefilm-172430/c...   \n",
       "2       http://www.allocine.fr/film/fichefilm-15105/cr...   \n",
       "3       http://www.allocine.fr/film/fichefilm-188629/c...   \n",
       "4       http://www.allocine.fr/film/fichefilm-23514/cr...   \n",
       "...                                                   ...   \n",
       "159995  http://www.allocine.fr/film/fichefilm-132387/c...   \n",
       "159996  http://www.allocine.fr/film/fichefilm-53313/cr...   \n",
       "159997  http://www.allocine.fr/film/fichefilm-248258/c...   \n",
       "159998  http://www.allocine.fr/film/fichefilm-268731/c...   \n",
       "159999  http://www.allocine.fr/film/fichefilm-188871/c...   \n",
       "\n",
       "                                                   review  polarity  \n",
       "0       Si vous cherchez du cinéma abrutissant à tous ...         0  \n",
       "1       Trash, re-trash et re-re-trash...! Une horreur...         0  \n",
       "2       Et si, dans les 5 premières minutes du film, l...         0  \n",
       "3       Mon dieu ! Quelle métaphore filée ! Je suis ab...         0  \n",
       "4       Premier film de la saga Kozure Okami, \"Le Sabr...         1  \n",
       "...                                                   ...       ...  \n",
       "159995  Un rythme bien trop lent et un Ashton Kutcher ...         0  \n",
       "159996  Monsieur Duchovny vous êtes aussi piètre acteu...         0  \n",
       "159997  Complètement différent des films de la série C...         1  \n",
       "159998  Alors franchement pour le moment c'est le meil...         1  \n",
       "159999  Beur sur la ville réunit à lui même toutes les...         0  \n",
       "\n",
       "[160000 rows x 3 columns]"
      ]
     },
     "execution_count": 2,
     "metadata": {},
     "output_type": "execute_result"
    }
   ],
   "source": [
    "df = pd.read_csv('../data/train.csv')\n",
    "df = df.drop('Unnamed: 0', axis=1)\n",
    "df"
   ]
  },
  {
   "cell_type": "markdown",
   "metadata": {},
   "source": [
    "Then, we use the TF-IDF vectorizer to transform the text of the reviews into a vector of numbers in order to use it to train the model."
   ]
  },
  {
   "cell_type": "code",
   "execution_count": 3,
   "metadata": {},
   "outputs": [
    {
     "name": "stderr",
     "output_type": "stream",
     "text": [
      "/Users/deronsart/anaconda3/envs/mlops/lib/python3.11/site-packages/sklearn/feature_extraction/text.py:408: UserWarning: Your stop_words may be inconsistent with your preprocessing. Tokenizing the stop words generated tokens ['neuf', 'qu', 'quelqu'] not in stop_words.\n",
      "  warnings.warn(\n"
     ]
    },
    {
     "data": {
      "text/plain": [
       "(160000, 152189)"
      ]
     },
     "execution_count": 3,
     "metadata": {},
     "output_type": "execute_result"
    }
   ],
   "source": [
    "tfidf = TfidfVectorizer(stop_words=list(french_stopwords))\n",
    "X_train = tfidf.fit_transform(df['review'])\n",
    "X_train.shape"
   ]
  },
  {
   "cell_type": "code",
   "execution_count": 4,
   "metadata": {},
   "outputs": [
    {
     "data": {
      "text/plain": [
       "(160000,)"
      ]
     },
     "execution_count": 4,
     "metadata": {},
     "output_type": "execute_result"
    }
   ],
   "source": [
    "y_train = df['polarity']\n",
    "y_train.shape"
   ]
  },
  {
   "cell_type": "markdown",
   "metadata": {},
   "source": [
    "Now, we can use the vectorized text to train a first model."
   ]
  },
  {
   "cell_type": "markdown",
   "metadata": {},
   "source": [
    "## Model conception"
   ]
  },
  {
   "cell_type": "markdown",
   "metadata": {},
   "source": [
    "Let's try first with a classic Logistic Regression model."
   ]
  },
  {
   "cell_type": "code",
   "execution_count": 5,
   "metadata": {},
   "outputs": [
    {
     "data": {
      "text/html": [
       "<style>#sk-container-id-1 {color: black;}#sk-container-id-1 pre{padding: 0;}#sk-container-id-1 div.sk-toggleable {background-color: white;}#sk-container-id-1 label.sk-toggleable__label {cursor: pointer;display: block;width: 100%;margin-bottom: 0;padding: 0.3em;box-sizing: border-box;text-align: center;}#sk-container-id-1 label.sk-toggleable__label-arrow:before {content: \"▸\";float: left;margin-right: 0.25em;color: #696969;}#sk-container-id-1 label.sk-toggleable__label-arrow:hover:before {color: black;}#sk-container-id-1 div.sk-estimator:hover label.sk-toggleable__label-arrow:before {color: black;}#sk-container-id-1 div.sk-toggleable__content {max-height: 0;max-width: 0;overflow: hidden;text-align: left;background-color: #f0f8ff;}#sk-container-id-1 div.sk-toggleable__content pre {margin: 0.2em;color: black;border-radius: 0.25em;background-color: #f0f8ff;}#sk-container-id-1 input.sk-toggleable__control:checked~div.sk-toggleable__content {max-height: 200px;max-width: 100%;overflow: auto;}#sk-container-id-1 input.sk-toggleable__control:checked~label.sk-toggleable__label-arrow:before {content: \"▾\";}#sk-container-id-1 div.sk-estimator input.sk-toggleable__control:checked~label.sk-toggleable__label {background-color: #d4ebff;}#sk-container-id-1 div.sk-label input.sk-toggleable__control:checked~label.sk-toggleable__label {background-color: #d4ebff;}#sk-container-id-1 input.sk-hidden--visually {border: 0;clip: rect(1px 1px 1px 1px);clip: rect(1px, 1px, 1px, 1px);height: 1px;margin: -1px;overflow: hidden;padding: 0;position: absolute;width: 1px;}#sk-container-id-1 div.sk-estimator {font-family: monospace;background-color: #f0f8ff;border: 1px dotted black;border-radius: 0.25em;box-sizing: border-box;margin-bottom: 0.5em;}#sk-container-id-1 div.sk-estimator:hover {background-color: #d4ebff;}#sk-container-id-1 div.sk-parallel-item::after {content: \"\";width: 100%;border-bottom: 1px solid gray;flex-grow: 1;}#sk-container-id-1 div.sk-label:hover label.sk-toggleable__label {background-color: #d4ebff;}#sk-container-id-1 div.sk-serial::before {content: \"\";position: absolute;border-left: 1px solid gray;box-sizing: border-box;top: 0;bottom: 0;left: 50%;z-index: 0;}#sk-container-id-1 div.sk-serial {display: flex;flex-direction: column;align-items: center;background-color: white;padding-right: 0.2em;padding-left: 0.2em;position: relative;}#sk-container-id-1 div.sk-item {position: relative;z-index: 1;}#sk-container-id-1 div.sk-parallel {display: flex;align-items: stretch;justify-content: center;background-color: white;position: relative;}#sk-container-id-1 div.sk-item::before, #sk-container-id-1 div.sk-parallel-item::before {content: \"\";position: absolute;border-left: 1px solid gray;box-sizing: border-box;top: 0;bottom: 0;left: 50%;z-index: -1;}#sk-container-id-1 div.sk-parallel-item {display: flex;flex-direction: column;z-index: 1;position: relative;background-color: white;}#sk-container-id-1 div.sk-parallel-item:first-child::after {align-self: flex-end;width: 50%;}#sk-container-id-1 div.sk-parallel-item:last-child::after {align-self: flex-start;width: 50%;}#sk-container-id-1 div.sk-parallel-item:only-child::after {width: 0;}#sk-container-id-1 div.sk-dashed-wrapped {border: 1px dashed gray;margin: 0 0.4em 0.5em 0.4em;box-sizing: border-box;padding-bottom: 0.4em;background-color: white;}#sk-container-id-1 div.sk-label label {font-family: monospace;font-weight: bold;display: inline-block;line-height: 1.2em;}#sk-container-id-1 div.sk-label-container {text-align: center;}#sk-container-id-1 div.sk-container {/* jupyter's `normalize.less` sets `[hidden] { display: none; }` but bootstrap.min.css set `[hidden] { display: none !important; }` so we also need the `!important` here to be able to override the default hidden behavior on the sphinx rendered scikit-learn.org. See: https://github.com/scikit-learn/scikit-learn/issues/21755 */display: inline-block !important;position: relative;}#sk-container-id-1 div.sk-text-repr-fallback {display: none;}</style><div id=\"sk-container-id-1\" class=\"sk-top-container\"><div class=\"sk-text-repr-fallback\"><pre>LogisticRegression(max_iter=500, random_state=42)</pre><b>In a Jupyter environment, please rerun this cell to show the HTML representation or trust the notebook. <br />On GitHub, the HTML representation is unable to render, please try loading this page with nbviewer.org.</b></div><div class=\"sk-container\" hidden><div class=\"sk-item\"><div class=\"sk-estimator sk-toggleable\"><input class=\"sk-toggleable__control sk-hidden--visually\" id=\"sk-estimator-id-1\" type=\"checkbox\" checked><label for=\"sk-estimator-id-1\" class=\"sk-toggleable__label sk-toggleable__label-arrow\">LogisticRegression</label><div class=\"sk-toggleable__content\"><pre>LogisticRegression(max_iter=500, random_state=42)</pre></div></div></div></div></div>"
      ],
      "text/plain": [
       "LogisticRegression(max_iter=500, random_state=42)"
      ]
     },
     "execution_count": 5,
     "metadata": {},
     "output_type": "execute_result"
    }
   ],
   "source": [
    "model = LogisticRegression(max_iter=500, random_state=42)\n",
    "model.fit(X_train, y_train)"
   ]
  },
  {
   "cell_type": "markdown",
   "metadata": {},
   "source": [
    "Now, we have to evaluate the model. To do so we are going to use the validation set."
   ]
  },
  {
   "cell_type": "code",
   "execution_count": 6,
   "metadata": {},
   "outputs": [
    {
     "data": {
      "text/html": [
       "<div>\n",
       "<style scoped>\n",
       "    .dataframe tbody tr th:only-of-type {\n",
       "        vertical-align: middle;\n",
       "    }\n",
       "\n",
       "    .dataframe tbody tr th {\n",
       "        vertical-align: top;\n",
       "    }\n",
       "\n",
       "    .dataframe thead th {\n",
       "        text-align: right;\n",
       "    }\n",
       "</style>\n",
       "<table border=\"1\" class=\"dataframe\">\n",
       "  <thead>\n",
       "    <tr style=\"text-align: right;\">\n",
       "      <th></th>\n",
       "      <th>Unnamed: 0</th>\n",
       "      <th>film-url</th>\n",
       "      <th>review</th>\n",
       "      <th>polarity</th>\n",
       "    </tr>\n",
       "  </thead>\n",
       "  <tbody>\n",
       "    <tr>\n",
       "      <th>0</th>\n",
       "      <td>0</td>\n",
       "      <td>http://www.allocine.fr/film/fichefilm-51895/cr...</td>\n",
       "      <td>Ce film est tout ce qu'il y a de plus sympa. M...</td>\n",
       "      <td>0</td>\n",
       "    </tr>\n",
       "    <tr>\n",
       "      <th>1</th>\n",
       "      <td>1</td>\n",
       "      <td>http://www.allocine.fr/film/fichefilm-272/crit...</td>\n",
       "      <td>The Wall a été réalisé par Alan Parker (Fame, ...</td>\n",
       "      <td>1</td>\n",
       "    </tr>\n",
       "    <tr>\n",
       "      <th>2</th>\n",
       "      <td>2</td>\n",
       "      <td>http://www.allocine.fr/film/fichefilm-60134/cr...</td>\n",
       "      <td>Encore un film majeur tres mal distribué, comm...</td>\n",
       "      <td>1</td>\n",
       "    </tr>\n",
       "    <tr>\n",
       "      <th>3</th>\n",
       "      <td>3</td>\n",
       "      <td>http://www.allocine.fr/film/fichefilm-31396/cr...</td>\n",
       "      <td>L'idée est très bonne mais le film manque de r...</td>\n",
       "      <td>0</td>\n",
       "    </tr>\n",
       "    <tr>\n",
       "      <th>4</th>\n",
       "      <td>4</td>\n",
       "      <td>http://www.allocine.fr/film/fichefilm-135195/c...</td>\n",
       "      <td>Un petit nanar rigolo a regarder. A voir une f...</td>\n",
       "      <td>0</td>\n",
       "    </tr>\n",
       "    <tr>\n",
       "      <th>...</th>\n",
       "      <td>...</td>\n",
       "      <td>...</td>\n",
       "      <td>...</td>\n",
       "      <td>...</td>\n",
       "    </tr>\n",
       "    <tr>\n",
       "      <th>19995</th>\n",
       "      <td>19995</td>\n",
       "      <td>http://www.allocine.fr/film/fichefilm-39142/cr...</td>\n",
       "      <td>Ce petit film tourné en 18 jours pour la somme...</td>\n",
       "      <td>1</td>\n",
       "    </tr>\n",
       "    <tr>\n",
       "      <th>19996</th>\n",
       "      <td>19996</td>\n",
       "      <td>http://www.allocine.fr/film/fichefilm-8171/cri...</td>\n",
       "      <td>Le roman de Forsyth, d'où est tiré le scénario...</td>\n",
       "      <td>0</td>\n",
       "    </tr>\n",
       "    <tr>\n",
       "      <th>19997</th>\n",
       "      <td>19997</td>\n",
       "      <td>http://www.allocine.fr/film/fichefilm-228026/c...</td>\n",
       "      <td>Qu'on aime ou pas \"Toni Erdmann\" - et au sorti...</td>\n",
       "      <td>1</td>\n",
       "    </tr>\n",
       "    <tr>\n",
       "      <th>19998</th>\n",
       "      <td>19998</td>\n",
       "      <td>http://www.allocine.fr/film/fichefilm-219994/c...</td>\n",
       "      <td>Un film qui a fait un certain buzz médiatique,...</td>\n",
       "      <td>1</td>\n",
       "    </tr>\n",
       "    <tr>\n",
       "      <th>19999</th>\n",
       "      <td>19999</td>\n",
       "      <td>http://www.allocine.fr/film/fichefilm-5762/cri...</td>\n",
       "      <td>C'est long, c'est mièvre, c'est ennuyeux tout ...</td>\n",
       "      <td>0</td>\n",
       "    </tr>\n",
       "  </tbody>\n",
       "</table>\n",
       "<p>20000 rows × 4 columns</p>\n",
       "</div>"
      ],
      "text/plain": [
       "       Unnamed: 0                                           film-url  \\\n",
       "0               0  http://www.allocine.fr/film/fichefilm-51895/cr...   \n",
       "1               1  http://www.allocine.fr/film/fichefilm-272/crit...   \n",
       "2               2  http://www.allocine.fr/film/fichefilm-60134/cr...   \n",
       "3               3  http://www.allocine.fr/film/fichefilm-31396/cr...   \n",
       "4               4  http://www.allocine.fr/film/fichefilm-135195/c...   \n",
       "...           ...                                                ...   \n",
       "19995       19995  http://www.allocine.fr/film/fichefilm-39142/cr...   \n",
       "19996       19996  http://www.allocine.fr/film/fichefilm-8171/cri...   \n",
       "19997       19997  http://www.allocine.fr/film/fichefilm-228026/c...   \n",
       "19998       19998  http://www.allocine.fr/film/fichefilm-219994/c...   \n",
       "19999       19999  http://www.allocine.fr/film/fichefilm-5762/cri...   \n",
       "\n",
       "                                                  review  polarity  \n",
       "0      Ce film est tout ce qu'il y a de plus sympa. M...         0  \n",
       "1      The Wall a été réalisé par Alan Parker (Fame, ...         1  \n",
       "2      Encore un film majeur tres mal distribué, comm...         1  \n",
       "3      L'idée est très bonne mais le film manque de r...         0  \n",
       "4      Un petit nanar rigolo a regarder. A voir une f...         0  \n",
       "...                                                  ...       ...  \n",
       "19995  Ce petit film tourné en 18 jours pour la somme...         1  \n",
       "19996  Le roman de Forsyth, d'où est tiré le scénario...         0  \n",
       "19997  Qu'on aime ou pas \"Toni Erdmann\" - et au sorti...         1  \n",
       "19998  Un film qui a fait un certain buzz médiatique,...         1  \n",
       "19999  C'est long, c'est mièvre, c'est ennuyeux tout ...         0  \n",
       "\n",
       "[20000 rows x 4 columns]"
      ]
     },
     "execution_count": 6,
     "metadata": {},
     "output_type": "execute_result"
    }
   ],
   "source": [
    "df_valid = pd.read_csv('../data/valid.csv')\n",
    "df_valid"
   ]
  },
  {
   "cell_type": "code",
   "execution_count": 7,
   "metadata": {},
   "outputs": [
    {
     "data": {
      "text/plain": [
       "((20000, 152189), (20000,))"
      ]
     },
     "execution_count": 7,
     "metadata": {},
     "output_type": "execute_result"
    }
   ],
   "source": [
    "X_valid = tfidf.transform(df_valid['review'])\n",
    "y_valid = df_valid['polarity']\n",
    "X_valid.shape, y_valid.shape"
   ]
  },
  {
   "cell_type": "markdown",
   "metadata": {},
   "source": [
    "We then evaluate the model on the validation set using sklearn.metrics functions."
   ]
  },
  {
   "cell_type": "code",
   "execution_count": 8,
   "metadata": {},
   "outputs": [],
   "source": [
    "def evaluate(model, X_valid, y_valid):\n",
    "    y_pred = model.predict(X_valid)\n",
    "    \n",
    "    accuracy = accuracy_score(y_valid, y_pred)\n",
    "    f1 = f1_score(y_valid, y_pred)\n",
    "    precision = precision_score(y_valid, y_pred)\n",
    "    recall = recall_score(y_valid, y_pred)\n",
    "    roc_auc = roc_auc_score(y_valid, y_pred)\n",
    "    print(f'Accuracy: {accuracy}')\n",
    "    print(f'F1: {f1}')\n",
    "    print(f'Precision: {precision}')\n",
    "    print(f'Recall: {recall}')\n",
    "    print(f'ROC AUC: {roc_auc}')\n",
    "    \n",
    "    cm = confusion_matrix(y_valid, y_pred)\n",
    "    sns.heatmap(cm, annot=True, fmt='d')\n",
    "    plt.xlabel('Predicted')\n",
    "    plt.ylabel('Truth')\n",
    "    plt.show()"
   ]
  },
  {
   "cell_type": "code",
   "execution_count": 9,
   "metadata": {},
   "outputs": [
    {
     "name": "stdout",
     "output_type": "stream",
     "text": [
      "Accuracy: 0.9185\n",
      "F1: 0.9178344591188627\n",
      "Precision: 0.9065923122883888\n",
      "Recall: 0.9293589220089833\n",
      "ROC AUC: 0.9187170933055501\n"
     ]
    },
    {
     "data": {
      "image/png": "[encoded data removed]",
      "text/plain": [
       "<Figure size 640x480 with 2 Axes>"
      ]
     },
     "metadata": {},
     "output_type": "display_data"
    }
   ],
   "source": [
    "evaluate(model, X_valid, y_valid)"
   ]
  },
  {
   "cell_type": "markdown",
   "metadata": {},
   "source": [
    "Our accuracy, f1 score, precision, recall and ROC AUC are giving us good scores on the evaluation set. Indeed, we have more than 90% for each scores.  \n",
    "\n",
    "The precision and the recall are around 90% and 92%. \n",
    "This precision score means that if the model predict that the polarity value is 1, it is correct in 90% of the cases.  \n",
    "This recall score means that if the polarity value is 1, the model predict it correctly in 92% of the cases.  \n",
    "The f1 score is the harmonic mean of the precision and the recall. It is a good indicator of the model performance to consider the precision and the recall."
   ]
  },
  {
   "cell_type": "markdown",
   "metadata": {},
   "source": [
    "## Pipeline creation"
   ]
  },
  {
   "cell_type": "markdown",
   "metadata": {},
   "source": [
    "When we have a model working well on the evaluation set, we can create a pipeline that first vectorize the text and then use the model."
   ]
  },
  {
   "cell_type": "code",
   "execution_count": 10,
   "metadata": {},
   "outputs": [
    {
     "data": {
      "text/html": [
       "<style>#sk-container-id-2 {color: black;}#sk-container-id-2 pre{padding: 0;}#sk-container-id-2 div.sk-toggleable {background-color: white;}#sk-container-id-2 label.sk-toggleable__label {cursor: pointer;display: block;width: 100%;margin-bottom: 0;padding: 0.3em;box-sizing: border-box;text-align: center;}#sk-container-id-2 label.sk-toggleable__label-arrow:before {content: \"▸\";float: left;margin-right: 0.25em;color: #696969;}#sk-container-id-2 label.sk-toggleable__label-arrow:hover:before {color: black;}#sk-container-id-2 div.sk-estimator:hover label.sk-toggleable__label-arrow:before {color: black;}#sk-container-id-2 div.sk-toggleable__content {max-height: 0;max-width: 0;overflow: hidden;text-align: left;background-color: #f0f8ff;}#sk-container-id-2 div.sk-toggleable__content pre {margin: 0.2em;color: black;border-radius: 0.25em;background-color: #f0f8ff;}#sk-container-id-2 input.sk-toggleable__control:checked~div.sk-toggleable__content {max-height: 200px;max-width: 100%;overflow: auto;}#sk-container-id-2 input.sk-toggleable__control:checked~label.sk-toggleable__label-arrow:before {content: \"▾\";}#sk-container-id-2 div.sk-estimator input.sk-toggleable__control:checked~label.sk-toggleable__label {background-color: #d4ebff;}#sk-container-id-2 div.sk-label input.sk-toggleable__control:checked~label.sk-toggleable__label {background-color: #d4ebff;}#sk-container-id-2 input.sk-hidden--visually {border: 0;clip: rect(1px 1px 1px 1px);clip: rect(1px, 1px, 1px, 1px);height: 1px;margin: -1px;overflow: hidden;padding: 0;position: absolute;width: 1px;}#sk-container-id-2 div.sk-estimator {font-family: monospace;background-color: #f0f8ff;border: 1px dotted black;border-radius: 0.25em;box-sizing: border-box;margin-bottom: 0.5em;}#sk-container-id-2 div.sk-estimator:hover {background-color: #d4ebff;}#sk-container-id-2 div.sk-parallel-item::after {content: \"\";width: 100%;border-bottom: 1px solid gray;flex-grow: 1;}#sk-container-id-2 div.sk-label:hover label.sk-toggleable__label {background-color: #d4ebff;}#sk-container-id-2 div.sk-serial::before {content: \"\";position: absolute;border-left: 1px solid gray;box-sizing: border-box;top: 0;bottom: 0;left: 50%;z-index: 0;}#sk-container-id-2 div.sk-serial {display: flex;flex-direction: column;align-items: center;background-color: white;padding-right: 0.2em;padding-left: 0.2em;position: relative;}#sk-container-id-2 div.sk-item {position: relative;z-index: 1;}#sk-container-id-2 div.sk-parallel {display: flex;align-items: stretch;justify-content: center;background-color: white;position: relative;}#sk-container-id-2 div.sk-item::before, #sk-container-id-2 div.sk-parallel-item::before {content: \"\";position: absolute;border-left: 1px solid gray;box-sizing: border-box;top: 0;bottom: 0;left: 50%;z-index: -1;}#sk-container-id-2 div.sk-parallel-item {display: flex;flex-direction: column;z-index: 1;position: relative;background-color: white;}#sk-container-id-2 div.sk-parallel-item:first-child::after {align-self: flex-end;width: 50%;}#sk-container-id-2 div.sk-parallel-item:last-child::after {align-self: flex-start;width: 50%;}#sk-container-id-2 div.sk-parallel-item:only-child::after {width: 0;}#sk-container-id-2 div.sk-dashed-wrapped {border: 1px dashed gray;margin: 0 0.4em 0.5em 0.4em;box-sizing: border-box;padding-bottom: 0.4em;background-color: white;}#sk-container-id-2 div.sk-label label {font-family: monospace;font-weight: bold;display: inline-block;line-height: 1.2em;}#sk-container-id-2 div.sk-label-container {text-align: center;}#sk-container-id-2 div.sk-container {/* jupyter's `normalize.less` sets `[hidden] { display: none; }` but bootstrap.min.css set `[hidden] { display: none !important; }` so we also need the `!important` here to be able to override the default hidden behavior on the sphinx rendered scikit-learn.org. See: https://github.com/scikit-learn/scikit-learn/issues/21755 */display: inline-block !important;position: relative;}#sk-container-id-2 div.sk-text-repr-fallback {display: none;}</style><div id=\"sk-container-id-2\" class=\"sk-top-container\"><div class=\"sk-text-repr-fallback\"><pre>Pipeline(steps=[(&#x27;tfidf&#x27;,\n",
       "                 TfidfVectorizer(stop_words=[&#x27;parfois&#x27;, &#x27;au&#x27;, &#x27;celui-ci&#x27;, &#x27;eux&#x27;,\n",
       "                                             &#x27;quelconque&#x27;, &#x27;souvent&#x27;,\n",
       "                                             &#x27;première&#x27;, &#x27;huit&#x27;, &#x27;suffisant&#x27;,\n",
       "                                             &quot;quelqu&#x27;un&quot;, &#x27;sept&#x27;, &#x27;or&#x27;,\n",
       "                                             &#x27;celle-ci&#x27;, &#x27;on&#x27;, &#x27;ne&#x27;,\n",
       "                                             &#x27;egalement&#x27;, &#x27;tenant&#x27;,\n",
       "                                             &#x27;anterieure&#x27;, &#x27;le&#x27;, &#x27;notamment&#x27;,\n",
       "                                             &#x27;seize&#x27;, &#x27;plutot&#x27;, &#x27;devers&#x27;, &#x27;me&#x27;,\n",
       "                                             &#x27;peuvent&#x27;, &#x27;serait&#x27;, &#x27;devant&#x27;,\n",
       "                                             &#x27;vos&#x27;, &#x27;celle&#x27;, &#x27;peut&#x27;, ...])),\n",
       "                (&#x27;model&#x27;, LogisticRegression(max_iter=500, random_state=42))])</pre><b>In a Jupyter environment, please rerun this cell to show the HTML representation or trust the notebook. <br />On GitHub, the HTML representation is unable to render, please try loading this page with nbviewer.org.</b></div><div class=\"sk-container\" hidden><div class=\"sk-item sk-dashed-wrapped\"><div class=\"sk-label-container\"><div class=\"sk-label sk-toggleable\"><input class=\"sk-toggleable__control sk-hidden--visually\" id=\"sk-estimator-id-2\" type=\"checkbox\" ><label for=\"sk-estimator-id-2\" class=\"sk-toggleable__label sk-toggleable__label-arrow\">Pipeline</label><div class=\"sk-toggleable__content\"><pre>Pipeline(steps=[(&#x27;tfidf&#x27;,\n",
       "                 TfidfVectorizer(stop_words=[&#x27;parfois&#x27;, &#x27;au&#x27;, &#x27;celui-ci&#x27;, &#x27;eux&#x27;,\n",
       "                                             &#x27;quelconque&#x27;, &#x27;souvent&#x27;,\n",
       "                                             &#x27;première&#x27;, &#x27;huit&#x27;, &#x27;suffisant&#x27;,\n",
       "                                             &quot;quelqu&#x27;un&quot;, &#x27;sept&#x27;, &#x27;or&#x27;,\n",
       "                                             &#x27;celle-ci&#x27;, &#x27;on&#x27;, &#x27;ne&#x27;,\n",
       "                                             &#x27;egalement&#x27;, &#x27;tenant&#x27;,\n",
       "                                             &#x27;anterieure&#x27;, &#x27;le&#x27;, &#x27;notamment&#x27;,\n",
       "                                             &#x27;seize&#x27;, &#x27;plutot&#x27;, &#x27;devers&#x27;, &#x27;me&#x27;,\n",
       "                                             &#x27;peuvent&#x27;, &#x27;serait&#x27;, &#x27;devant&#x27;,\n",
       "                                             &#x27;vos&#x27;, &#x27;celle&#x27;, &#x27;peut&#x27;, ...])),\n",
       "                (&#x27;model&#x27;, LogisticRegression(max_iter=500, random_state=42))])</pre></div></div></div><div class=\"sk-serial\"><div class=\"sk-item\"><div class=\"sk-estimator sk-toggleable\"><input class=\"sk-toggleable__control sk-hidden--visually\" id=\"sk-estimator-id-3\" type=\"checkbox\" ><label for=\"sk-estimator-id-3\" class=\"sk-toggleable__label sk-toggleable__label-arrow\">TfidfVectorizer</label><div class=\"sk-toggleable__content\"><pre>TfidfVectorizer(stop_words=[&#x27;parfois&#x27;, &#x27;au&#x27;, &#x27;celui-ci&#x27;, &#x27;eux&#x27;, &#x27;quelconque&#x27;,\n",
       "                            &#x27;souvent&#x27;, &#x27;première&#x27;, &#x27;huit&#x27;, &#x27;suffisant&#x27;,\n",
       "                            &quot;quelqu&#x27;un&quot;, &#x27;sept&#x27;, &#x27;or&#x27;, &#x27;celle-ci&#x27;, &#x27;on&#x27;, &#x27;ne&#x27;,\n",
       "                            &#x27;egalement&#x27;, &#x27;tenant&#x27;, &#x27;anterieure&#x27;, &#x27;le&#x27;,\n",
       "                            &#x27;notamment&#x27;, &#x27;seize&#x27;, &#x27;plutot&#x27;, &#x27;devers&#x27;, &#x27;me&#x27;,\n",
       "                            &#x27;peuvent&#x27;, &#x27;serait&#x27;, &#x27;devant&#x27;, &#x27;vos&#x27;, &#x27;celle&#x27;,\n",
       "                            &#x27;peut&#x27;, ...])</pre></div></div></div><div class=\"sk-item\"><div class=\"sk-estimator sk-toggleable\"><input class=\"sk-toggleable__control sk-hidden--visually\" id=\"sk-estimator-id-4\" type=\"checkbox\" ><label for=\"sk-estimator-id-4\" class=\"sk-toggleable__label sk-toggleable__label-arrow\">LogisticRegression</label><div class=\"sk-toggleable__content\"><pre>LogisticRegression(max_iter=500, random_state=42)</pre></div></div></div></div></div></div></div>"
      ],
      "text/plain": [
       "Pipeline(steps=[('tfidf',\n",
       "                 TfidfVectorizer(stop_words=['parfois', 'au', 'celui-ci', 'eux',\n",
       "                                             'quelconque', 'souvent',\n",
       "                                             'première', 'huit', 'suffisant',\n",
       "                                             \"quelqu'un\", 'sept', 'or',\n",
       "                                             'celle-ci', 'on', 'ne',\n",
       "                                             'egalement', 'tenant',\n",
       "                                             'anterieure', 'le', 'notamment',\n",
       "                                             'seize', 'plutot', 'devers', 'me',\n",
       "                                             'peuvent', 'serait', 'devant',\n",
       "                                             'vos', 'celle', 'peut', ...])),\n",
       "                ('model', LogisticRegression(max_iter=500, random_state=42))])"
      ]
     },
     "execution_count": 10,
     "metadata": {},
     "output_type": "execute_result"
    }
   ],
   "source": [
    "pipe = Pipeline([\n",
    "    ('tfidf', TfidfVectorizer(stop_words=list(french_stopwords))),\n",
    "    ('model', LogisticRegression(max_iter=500, random_state=42))\n",
    "])\n",
    "pipe"
   ]
  },
  {
   "cell_type": "markdown",
   "metadata": {},
   "source": [
    "Our pipeline can be used to train the model on the whole training set, and then use it to predict the polarity of the test set."
   ]
  },
  {
   "cell_type": "code",
   "execution_count": 11,
   "metadata": {},
   "outputs": [
    {
     "name": "stderr",
     "output_type": "stream",
     "text": [
      "/Users/deronsart/anaconda3/envs/mlops/lib/python3.11/site-packages/sklearn/feature_extraction/text.py:408: UserWarning: Your stop_words may be inconsistent with your preprocessing. Tokenizing the stop words generated tokens ['neuf', 'qu', 'quelqu'] not in stop_words.\n",
      "  warnings.warn(\n"
     ]
    },
    {
     "data": {
      "text/html": [
       "<style>#sk-container-id-3 {color: black;}#sk-container-id-3 pre{padding: 0;}#sk-container-id-3 div.sk-toggleable {background-color: white;}#sk-container-id-3 label.sk-toggleable__label {cursor: pointer;display: block;width: 100%;margin-bottom: 0;padding: 0.3em;box-sizing: border-box;text-align: center;}#sk-container-id-3 label.sk-toggleable__label-arrow:before {content: \"▸\";float: left;margin-right: 0.25em;color: #696969;}#sk-container-id-3 label.sk-toggleable__label-arrow:hover:before {color: black;}#sk-container-id-3 div.sk-estimator:hover label.sk-toggleable__label-arrow:before {color: black;}#sk-container-id-3 div.sk-toggleable__content {max-height: 0;max-width: 0;overflow: hidden;text-align: left;background-color: #f0f8ff;}#sk-container-id-3 div.sk-toggleable__content pre {margin: 0.2em;color: black;border-radius: 0.25em;background-color: #f0f8ff;}#sk-container-id-3 input.sk-toggleable__control:checked~div.sk-toggleable__content {max-height: 200px;max-width: 100%;overflow: auto;}#sk-container-id-3 input.sk-toggleable__control:checked~label.sk-toggleable__label-arrow:before {content: \"▾\";}#sk-container-id-3 div.sk-estimator input.sk-toggleable__control:checked~label.sk-toggleable__label {background-color: #d4ebff;}#sk-container-id-3 div.sk-label input.sk-toggleable__control:checked~label.sk-toggleable__label {background-color: #d4ebff;}#sk-container-id-3 input.sk-hidden--visually {border: 0;clip: rect(1px 1px 1px 1px);clip: rect(1px, 1px, 1px, 1px);height: 1px;margin: -1px;overflow: hidden;padding: 0;position: absolute;width: 1px;}#sk-container-id-3 div.sk-estimator {font-family: monospace;background-color: #f0f8ff;border: 1px dotted black;border-radius: 0.25em;box-sizing: border-box;margin-bottom: 0.5em;}#sk-container-id-3 div.sk-estimator:hover {background-color: #d4ebff;}#sk-container-id-3 div.sk-parallel-item::after {content: \"\";width: 100%;border-bottom: 1px solid gray;flex-grow: 1;}#sk-container-id-3 div.sk-label:hover label.sk-toggleable__label {background-color: #d4ebff;}#sk-container-id-3 div.sk-serial::before {content: \"\";position: absolute;border-left: 1px solid gray;box-sizing: border-box;top: 0;bottom: 0;left: 50%;z-index: 0;}#sk-container-id-3 div.sk-serial {display: flex;flex-direction: column;align-items: center;background-color: white;padding-right: 0.2em;padding-left: 0.2em;position: relative;}#sk-container-id-3 div.sk-item {position: relative;z-index: 1;}#sk-container-id-3 div.sk-parallel {display: flex;align-items: stretch;justify-content: center;background-color: white;position: relative;}#sk-container-id-3 div.sk-item::before, #sk-container-id-3 div.sk-parallel-item::before {content: \"\";position: absolute;border-left: 1px solid gray;box-sizing: border-box;top: 0;bottom: 0;left: 50%;z-index: -1;}#sk-container-id-3 div.sk-parallel-item {display: flex;flex-direction: column;z-index: 1;position: relative;background-color: white;}#sk-container-id-3 div.sk-parallel-item:first-child::after {align-self: flex-end;width: 50%;}#sk-container-id-3 div.sk-parallel-item:last-child::after {align-self: flex-start;width: 50%;}#sk-container-id-3 div.sk-parallel-item:only-child::after {width: 0;}#sk-container-id-3 div.sk-dashed-wrapped {border: 1px dashed gray;margin: 0 0.4em 0.5em 0.4em;box-sizing: border-box;padding-bottom: 0.4em;background-color: white;}#sk-container-id-3 div.sk-label label {font-family: monospace;font-weight: bold;display: inline-block;line-height: 1.2em;}#sk-container-id-3 div.sk-label-container {text-align: center;}#sk-container-id-3 div.sk-container {/* jupyter's `normalize.less` sets `[hidden] { display: none; }` but bootstrap.min.css set `[hidden] { display: none !important; }` so we also need the `!important` here to be able to override the default hidden behavior on the sphinx rendered scikit-learn.org. See: https://github.com/scikit-learn/scikit-learn/issues/21755 */display: inline-block !important;position: relative;}#sk-container-id-3 div.sk-text-repr-fallback {display: none;}</style><div id=\"sk-container-id-3\" class=\"sk-top-container\"><div class=\"sk-text-repr-fallback\"><pre>Pipeline(steps=[(&#x27;tfidf&#x27;,\n",
       "                 TfidfVectorizer(stop_words=[&#x27;parfois&#x27;, &#x27;au&#x27;, &#x27;celui-ci&#x27;, &#x27;eux&#x27;,\n",
       "                                             &#x27;quelconque&#x27;, &#x27;souvent&#x27;,\n",
       "                                             &#x27;première&#x27;, &#x27;huit&#x27;, &#x27;suffisant&#x27;,\n",
       "                                             &quot;quelqu&#x27;un&quot;, &#x27;sept&#x27;, &#x27;or&#x27;,\n",
       "                                             &#x27;celle-ci&#x27;, &#x27;on&#x27;, &#x27;ne&#x27;,\n",
       "                                             &#x27;egalement&#x27;, &#x27;tenant&#x27;,\n",
       "                                             &#x27;anterieure&#x27;, &#x27;le&#x27;, &#x27;notamment&#x27;,\n",
       "                                             &#x27;seize&#x27;, &#x27;plutot&#x27;, &#x27;devers&#x27;, &#x27;me&#x27;,\n",
       "                                             &#x27;peuvent&#x27;, &#x27;serait&#x27;, &#x27;devant&#x27;,\n",
       "                                             &#x27;vos&#x27;, &#x27;celle&#x27;, &#x27;peut&#x27;, ...])),\n",
       "                (&#x27;model&#x27;, LogisticRegression(max_iter=500, random_state=42))])</pre><b>In a Jupyter environment, please rerun this cell to show the HTML representation or trust the notebook. <br />On GitHub, the HTML representation is unable to render, please try loading this page with nbviewer.org.</b></div><div class=\"sk-container\" hidden><div class=\"sk-item sk-dashed-wrapped\"><div class=\"sk-label-container\"><div class=\"sk-label sk-toggleable\"><input class=\"sk-toggleable__control sk-hidden--visually\" id=\"sk-estimator-id-5\" type=\"checkbox\" ><label for=\"sk-estimator-id-5\" class=\"sk-toggleable__label sk-toggleable__label-arrow\">Pipeline</label><div class=\"sk-toggleable__content\"><pre>Pipeline(steps=[(&#x27;tfidf&#x27;,\n",
       "                 TfidfVectorizer(stop_words=[&#x27;parfois&#x27;, &#x27;au&#x27;, &#x27;celui-ci&#x27;, &#x27;eux&#x27;,\n",
       "                                             &#x27;quelconque&#x27;, &#x27;souvent&#x27;,\n",
       "                                             &#x27;première&#x27;, &#x27;huit&#x27;, &#x27;suffisant&#x27;,\n",
       "                                             &quot;quelqu&#x27;un&quot;, &#x27;sept&#x27;, &#x27;or&#x27;,\n",
       "                                             &#x27;celle-ci&#x27;, &#x27;on&#x27;, &#x27;ne&#x27;,\n",
       "                                             &#x27;egalement&#x27;, &#x27;tenant&#x27;,\n",
       "                                             &#x27;anterieure&#x27;, &#x27;le&#x27;, &#x27;notamment&#x27;,\n",
       "                                             &#x27;seize&#x27;, &#x27;plutot&#x27;, &#x27;devers&#x27;, &#x27;me&#x27;,\n",
       "                                             &#x27;peuvent&#x27;, &#x27;serait&#x27;, &#x27;devant&#x27;,\n",
       "                                             &#x27;vos&#x27;, &#x27;celle&#x27;, &#x27;peut&#x27;, ...])),\n",
       "                (&#x27;model&#x27;, LogisticRegression(max_iter=500, random_state=42))])</pre></div></div></div><div class=\"sk-serial\"><div class=\"sk-item\"><div class=\"sk-estimator sk-toggleable\"><input class=\"sk-toggleable__control sk-hidden--visually\" id=\"sk-estimator-id-6\" type=\"checkbox\" ><label for=\"sk-estimator-id-6\" class=\"sk-toggleable__label sk-toggleable__label-arrow\">TfidfVectorizer</label><div class=\"sk-toggleable__content\"><pre>TfidfVectorizer(stop_words=[&#x27;parfois&#x27;, &#x27;au&#x27;, &#x27;celui-ci&#x27;, &#x27;eux&#x27;, &#x27;quelconque&#x27;,\n",
       "                            &#x27;souvent&#x27;, &#x27;première&#x27;, &#x27;huit&#x27;, &#x27;suffisant&#x27;,\n",
       "                            &quot;quelqu&#x27;un&quot;, &#x27;sept&#x27;, &#x27;or&#x27;, &#x27;celle-ci&#x27;, &#x27;on&#x27;, &#x27;ne&#x27;,\n",
       "                            &#x27;egalement&#x27;, &#x27;tenant&#x27;, &#x27;anterieure&#x27;, &#x27;le&#x27;,\n",
       "                            &#x27;notamment&#x27;, &#x27;seize&#x27;, &#x27;plutot&#x27;, &#x27;devers&#x27;, &#x27;me&#x27;,\n",
       "                            &#x27;peuvent&#x27;, &#x27;serait&#x27;, &#x27;devant&#x27;, &#x27;vos&#x27;, &#x27;celle&#x27;,\n",
       "                            &#x27;peut&#x27;, ...])</pre></div></div></div><div class=\"sk-item\"><div class=\"sk-estimator sk-toggleable\"><input class=\"sk-toggleable__control sk-hidden--visually\" id=\"sk-estimator-id-7\" type=\"checkbox\" ><label for=\"sk-estimator-id-7\" class=\"sk-toggleable__label sk-toggleable__label-arrow\">LogisticRegression</label><div class=\"sk-toggleable__content\"><pre>LogisticRegression(max_iter=500, random_state=42)</pre></div></div></div></div></div></div></div>"
      ],
      "text/plain": [
       "Pipeline(steps=[('tfidf',\n",
       "                 TfidfVectorizer(stop_words=['parfois', 'au', 'celui-ci', 'eux',\n",
       "                                             'quelconque', 'souvent',\n",
       "                                             'première', 'huit', 'suffisant',\n",
       "                                             \"quelqu'un\", 'sept', 'or',\n",
       "                                             'celle-ci', 'on', 'ne',\n",
       "                                             'egalement', 'tenant',\n",
       "                                             'anterieure', 'le', 'notamment',\n",
       "                                             'seize', 'plutot', 'devers', 'me',\n",
       "                                             'peuvent', 'serait', 'devant',\n",
       "                                             'vos', 'celle', 'peut', ...])),\n",
       "                ('model', LogisticRegression(max_iter=500, random_state=42))])"
      ]
     },
     "execution_count": 11,
     "metadata": {},
     "output_type": "execute_result"
    }
   ],
   "source": [
    "pipe.fit(df['review'], df['polarity'])"
   ]
  },
  {
   "cell_type": "code",
   "execution_count": 12,
   "metadata": {},
   "outputs": [
    {
     "data": {
      "text/plain": [
       "(20000,)"
      ]
     },
     "execution_count": 12,
     "metadata": {},
     "output_type": "execute_result"
    }
   ],
   "source": [
    "y_pred = pipe.predict(df_valid['review'])\n",
    "y_pred.shape"
   ]
  },
  {
   "cell_type": "code",
   "execution_count": 13,
   "metadata": {},
   "outputs": [
    {
     "name": "stdout",
     "output_type": "stream",
     "text": [
      "Accuracy: 0.9185\n",
      "F1: 0.9178344591188627\n",
      "Precision: 0.9065923122883888\n",
      "Recall: 0.9293589220089833\n",
      "ROC AUC: 0.9187170933055501\n"
     ]
    },
    {
     "data": {
      "image/png": "[encoded data removed]",
      "text/plain": [
       "<Figure size 640x480 with 2 Axes>"
      ]
     },
     "metadata": {},
     "output_type": "display_data"
    }
   ],
   "source": [
    "evaluate(pipe, df_valid['review'], y_valid)"
   ]
  },
  {
   "cell_type": "markdown",
   "metadata": {},
   "source": [
    "We have the exact same scores on the evaluation set than before, showing us that our pipeline is working well."
   ]
  },
  {
   "cell_type": "markdown",
   "metadata": {},
   "source": [
    "## Experimenting with different models and hyperparameters"
   ]
  },
  {
   "cell_type": "markdown",
   "metadata": {},
   "source": [
    "To get a better model we can try different models and hyperparameters."
   ]
  },
  {
   "cell_type": "markdown",
   "metadata": {},
   "source": [
    "First, we can use a grid search to find the optimal hyperparameters for a Logistic Regression model."
   ]
  },
  {
   "cell_type": "code",
   "execution_count": 14,
   "metadata": {},
   "outputs": [
    {
     "data": {
      "text/plain": [
       "{'C': 1, 'penalty': 'l2'}"
      ]
     },
     "execution_count": 14,
     "metadata": {},
     "output_type": "execute_result"
    }
   ],
   "source": [
    "params = {\n",
    "    'C': [0.1, 1, 10],\n",
    "    'penalty': ['l1', 'l2']\n",
    "}\n",
    "\n",
    "gridsearch_lr = GridSearchCV(LogisticRegression(max_iter=500, solver='liblinear', random_state=42), params, cv=5)\n",
    "gridsearch_lr.fit(X_train, y_train)\n",
    "gridsearch_lr.best_params_"
   ]
  },
  {
   "cell_type": "code",
   "execution_count": 15,
   "metadata": {},
   "outputs": [
    {
     "name": "stdout",
     "output_type": "stream",
     "text": [
      "Accuracy: 0.91845\n",
      "F1: 0.9177881949695046\n",
      "Precision: 0.9065020412227422\n",
      "Recall: 0.9293589220089833\n",
      "ROC AUC: 0.9186680929135469\n"
     ]
    },
    {
     "data": {
      "image/png": "[encoded data removed]",
      "text/plain": [
       "<Figure size 640x480 with 2 Axes>"
      ]
     },
     "metadata": {},
     "output_type": "display_data"
    }
   ],
   "source": [
    "evaluate(gridsearch_lr, X_valid, y_valid)"
   ]
  },
  {
   "cell_type": "markdown",
   "metadata": {},
   "source": [
    "The best Logistic Regression model has a C value of 1 and a penalty of l2.  \n",
    "The scores are equivalent than before, so it seems like we can't get better results with a Logistic Regression model."
   ]
  }
 ],
 "metadata": {
  "kernelspec": {
   "display_name": "mlops",
   "language": "python",
   "name": "python3"
  },
  "language_info": {
   "codemirror_mode": {
    "name": "ipython",
    "version": 3
   },
   "file_extension": ".py",
   "mimetype": "text/x-python",
   "name": "python",
   "nbconvert_exporter": "python",
   "pygments_lexer": "ipython3",
   "version": "3.11.5"
  }
 },
 "nbformat": 4,
 "nbformat_minor": 2
}
